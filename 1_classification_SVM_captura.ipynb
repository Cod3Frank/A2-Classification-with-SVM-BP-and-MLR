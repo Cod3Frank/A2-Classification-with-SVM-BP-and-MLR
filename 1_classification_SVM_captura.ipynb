{
  "cells": [
    {
      "cell_type": "markdown",
      "id": "6fb35b37-7059-4306-8ba0-b018d00ee1f7",
      "metadata": {
        "tags": [],
        "id": "6fb35b37-7059-4306-8ba0-b018d00ee1f7"
      },
      "source": [
        "**Classification with SVM || Dataset: captura pcap**"
      ]
    },
    {
      "cell_type": "markdown",
      "id": "764d20e7-1615-4086-849c-546747540c94",
      "metadata": {
        "tags": [],
        "id": "764d20e7-1615-4086-849c-546747540c94"
      },
      "source": [
        "**Import modules**"
      ]
    },
    {
      "cell_type": "code",
      "execution_count": 1,
      "id": "15fc918d-8adb-477b-ac0a-b3f6cc0a11aa",
      "metadata": {
        "tags": [],
        "id": "15fc918d-8adb-477b-ac0a-b3f6cc0a11aa"
      },
      "outputs": [],
      "source": [
        "import pandas as pd\n",
        "import numpy as np\n",
        "import matplotlib.pyplot as plt\n",
        "from sklearn.svm import SVC\n",
        "from sklearn.metrics import confusion_matrix, ConfusionMatrixDisplay, accuracy_score\n",
        "from sklearn.model_selection import KFold\n",
        "from sklearn.preprocessing import LabelEncoder, MinMaxScaler\n",
        "from sklearn.model_selection import train_test_split"
      ]
    },
    {
      "cell_type": "markdown",
      "id": "78b748b6-77b4-4ebc-b59a-ec9fcb07315c",
      "metadata": {
        "tags": [],
        "id": "78b748b6-77b4-4ebc-b59a-ec9fcb07315c"
      },
      "source": [
        "\n",
        "**Load dataset**"
      ]
    },
    {
      "cell_type": "code",
      "execution_count": 3,
      "id": "b9294084-c748-44b4-9c5d-3cea48a0713c",
      "metadata": {
        "tags": [],
        "id": "b9294084-c748-44b4-9c5d-3cea48a0713c",
        "outputId": "a731f7a2-f6ca-4849-b05a-5468d3e922bf",
        "colab": {
          "base_uri": "https://localhost:8080/",
          "height": 206
        }
      },
      "outputs": [
        {
          "output_type": "execute_result",
          "data": {
            "text/plain": [
              "   No.      Time             Source                     Destination Protocol  \\\n",
              "0    1  0.000000  Alcatel-_19:39:41  Spanning-tree-(for-bridges)_00      STP   \n",
              "1    2  0.130454          68.55.0.1                       224.9.9.4      UDP   \n",
              "2    3  0.147551      192.168.168.1                   192.168.168.1     ICMP   \n",
              "3    4  0.147606     132.32.128.200                  132.32.128.200     ICMP   \n",
              "4    5  0.374202        172.31.48.1                 255.255.255.255     DHCP   \n",
              "\n",
              "   Length  \n",
              "0      60  \n",
              "1     783  \n",
              "2     110  \n",
              "3     103  \n",
              "4     367  "
            ],
            "text/html": [
              "\n",
              "  <div id=\"df-2fafaf2c-07f1-4a82-b391-6c015ecbd61f\" class=\"colab-df-container\">\n",
              "    <div>\n",
              "<style scoped>\n",
              "    .dataframe tbody tr th:only-of-type {\n",
              "        vertical-align: middle;\n",
              "    }\n",
              "\n",
              "    .dataframe tbody tr th {\n",
              "        vertical-align: top;\n",
              "    }\n",
              "\n",
              "    .dataframe thead th {\n",
              "        text-align: right;\n",
              "    }\n",
              "</style>\n",
              "<table border=\"1\" class=\"dataframe\">\n",
              "  <thead>\n",
              "    <tr style=\"text-align: right;\">\n",
              "      <th></th>\n",
              "      <th>No.</th>\n",
              "      <th>Time</th>\n",
              "      <th>Source</th>\n",
              "      <th>Destination</th>\n",
              "      <th>Protocol</th>\n",
              "      <th>Length</th>\n",
              "    </tr>\n",
              "  </thead>\n",
              "  <tbody>\n",
              "    <tr>\n",
              "      <th>0</th>\n",
              "      <td>1</td>\n",
              "      <td>0.000000</td>\n",
              "      <td>Alcatel-_19:39:41</td>\n",
              "      <td>Spanning-tree-(for-bridges)_00</td>\n",
              "      <td>STP</td>\n",
              "      <td>60</td>\n",
              "    </tr>\n",
              "    <tr>\n",
              "      <th>1</th>\n",
              "      <td>2</td>\n",
              "      <td>0.130454</td>\n",
              "      <td>68.55.0.1</td>\n",
              "      <td>224.9.9.4</td>\n",
              "      <td>UDP</td>\n",
              "      <td>783</td>\n",
              "    </tr>\n",
              "    <tr>\n",
              "      <th>2</th>\n",
              "      <td>3</td>\n",
              "      <td>0.147551</td>\n",
              "      <td>192.168.168.1</td>\n",
              "      <td>192.168.168.1</td>\n",
              "      <td>ICMP</td>\n",
              "      <td>110</td>\n",
              "    </tr>\n",
              "    <tr>\n",
              "      <th>3</th>\n",
              "      <td>4</td>\n",
              "      <td>0.147606</td>\n",
              "      <td>132.32.128.200</td>\n",
              "      <td>132.32.128.200</td>\n",
              "      <td>ICMP</td>\n",
              "      <td>103</td>\n",
              "    </tr>\n",
              "    <tr>\n",
              "      <th>4</th>\n",
              "      <td>5</td>\n",
              "      <td>0.374202</td>\n",
              "      <td>172.31.48.1</td>\n",
              "      <td>255.255.255.255</td>\n",
              "      <td>DHCP</td>\n",
              "      <td>367</td>\n",
              "    </tr>\n",
              "  </tbody>\n",
              "</table>\n",
              "</div>\n",
              "    <div class=\"colab-df-buttons\">\n",
              "\n",
              "  <div class=\"colab-df-container\">\n",
              "    <button class=\"colab-df-convert\" onclick=\"convertToInteractive('df-2fafaf2c-07f1-4a82-b391-6c015ecbd61f')\"\n",
              "            title=\"Convert this dataframe to an interactive table.\"\n",
              "            style=\"display:none;\">\n",
              "\n",
              "  <svg xmlns=\"http://www.w3.org/2000/svg\" height=\"24px\" viewBox=\"0 -960 960 960\">\n",
              "    <path d=\"M120-120v-720h720v720H120Zm60-500h600v-160H180v160Zm220 220h160v-160H400v160Zm0 220h160v-160H400v160ZM180-400h160v-160H180v160Zm440 0h160v-160H620v160ZM180-180h160v-160H180v160Zm440 0h160v-160H620v160Z\"/>\n",
              "  </svg>\n",
              "    </button>\n",
              "\n",
              "  <style>\n",
              "    .colab-df-container {\n",
              "      display:flex;\n",
              "      gap: 12px;\n",
              "    }\n",
              "\n",
              "    .colab-df-convert {\n",
              "      background-color: #E8F0FE;\n",
              "      border: none;\n",
              "      border-radius: 50%;\n",
              "      cursor: pointer;\n",
              "      display: none;\n",
              "      fill: #1967D2;\n",
              "      height: 32px;\n",
              "      padding: 0 0 0 0;\n",
              "      width: 32px;\n",
              "    }\n",
              "\n",
              "    .colab-df-convert:hover {\n",
              "      background-color: #E2EBFA;\n",
              "      box-shadow: 0px 1px 2px rgba(60, 64, 67, 0.3), 0px 1px 3px 1px rgba(60, 64, 67, 0.15);\n",
              "      fill: #174EA6;\n",
              "    }\n",
              "\n",
              "    .colab-df-buttons div {\n",
              "      margin-bottom: 4px;\n",
              "    }\n",
              "\n",
              "    [theme=dark] .colab-df-convert {\n",
              "      background-color: #3B4455;\n",
              "      fill: #D2E3FC;\n",
              "    }\n",
              "\n",
              "    [theme=dark] .colab-df-convert:hover {\n",
              "      background-color: #434B5C;\n",
              "      box-shadow: 0px 1px 3px 1px rgba(0, 0, 0, 0.15);\n",
              "      filter: drop-shadow(0px 1px 2px rgba(0, 0, 0, 0.3));\n",
              "      fill: #FFFFFF;\n",
              "    }\n",
              "  </style>\n",
              "\n",
              "    <script>\n",
              "      const buttonEl =\n",
              "        document.querySelector('#df-2fafaf2c-07f1-4a82-b391-6c015ecbd61f button.colab-df-convert');\n",
              "      buttonEl.style.display =\n",
              "        google.colab.kernel.accessAllowed ? 'block' : 'none';\n",
              "\n",
              "      async function convertToInteractive(key) {\n",
              "        const element = document.querySelector('#df-2fafaf2c-07f1-4a82-b391-6c015ecbd61f');\n",
              "        const dataTable =\n",
              "          await google.colab.kernel.invokeFunction('convertToInteractive',\n",
              "                                                    [key], {});\n",
              "        if (!dataTable) return;\n",
              "\n",
              "        const docLinkHtml = 'Like what you see? Visit the ' +\n",
              "          '<a target=\"_blank\" href=https://colab.research.google.com/notebooks/data_table.ipynb>data table notebook</a>'\n",
              "          + ' to learn more about interactive tables.';\n",
              "        element.innerHTML = '';\n",
              "        dataTable['output_type'] = 'display_data';\n",
              "        await google.colab.output.renderOutput(dataTable, element);\n",
              "        const docLink = document.createElement('div');\n",
              "        docLink.innerHTML = docLinkHtml;\n",
              "        element.appendChild(docLink);\n",
              "      }\n",
              "    </script>\n",
              "  </div>\n",
              "\n",
              "\n",
              "<div id=\"df-e3149f59-4509-42ad-a86f-4fe025176559\">\n",
              "  <button class=\"colab-df-quickchart\" onclick=\"quickchart('df-e3149f59-4509-42ad-a86f-4fe025176559')\"\n",
              "            title=\"Suggest charts\"\n",
              "            style=\"display:none;\">\n",
              "\n",
              "<svg xmlns=\"http://www.w3.org/2000/svg\" height=\"24px\"viewBox=\"0 0 24 24\"\n",
              "     width=\"24px\">\n",
              "    <g>\n",
              "        <path d=\"M19 3H5c-1.1 0-2 .9-2 2v14c0 1.1.9 2 2 2h14c1.1 0 2-.9 2-2V5c0-1.1-.9-2-2-2zM9 17H7v-7h2v7zm4 0h-2V7h2v10zm4 0h-2v-4h2v4z\"/>\n",
              "    </g>\n",
              "</svg>\n",
              "  </button>\n",
              "\n",
              "<style>\n",
              "  .colab-df-quickchart {\n",
              "      --bg-color: #E8F0FE;\n",
              "      --fill-color: #1967D2;\n",
              "      --hover-bg-color: #E2EBFA;\n",
              "      --hover-fill-color: #174EA6;\n",
              "      --disabled-fill-color: #AAA;\n",
              "      --disabled-bg-color: #DDD;\n",
              "  }\n",
              "\n",
              "  [theme=dark] .colab-df-quickchart {\n",
              "      --bg-color: #3B4455;\n",
              "      --fill-color: #D2E3FC;\n",
              "      --hover-bg-color: #434B5C;\n",
              "      --hover-fill-color: #FFFFFF;\n",
              "      --disabled-bg-color: #3B4455;\n",
              "      --disabled-fill-color: #666;\n",
              "  }\n",
              "\n",
              "  .colab-df-quickchart {\n",
              "    background-color: var(--bg-color);\n",
              "    border: none;\n",
              "    border-radius: 50%;\n",
              "    cursor: pointer;\n",
              "    display: none;\n",
              "    fill: var(--fill-color);\n",
              "    height: 32px;\n",
              "    padding: 0;\n",
              "    width: 32px;\n",
              "  }\n",
              "\n",
              "  .colab-df-quickchart:hover {\n",
              "    background-color: var(--hover-bg-color);\n",
              "    box-shadow: 0 1px 2px rgba(60, 64, 67, 0.3), 0 1px 3px 1px rgba(60, 64, 67, 0.15);\n",
              "    fill: var(--button-hover-fill-color);\n",
              "  }\n",
              "\n",
              "  .colab-df-quickchart-complete:disabled,\n",
              "  .colab-df-quickchart-complete:disabled:hover {\n",
              "    background-color: var(--disabled-bg-color);\n",
              "    fill: var(--disabled-fill-color);\n",
              "    box-shadow: none;\n",
              "  }\n",
              "\n",
              "  .colab-df-spinner {\n",
              "    border: 2px solid var(--fill-color);\n",
              "    border-color: transparent;\n",
              "    border-bottom-color: var(--fill-color);\n",
              "    animation:\n",
              "      spin 1s steps(1) infinite;\n",
              "  }\n",
              "\n",
              "  @keyframes spin {\n",
              "    0% {\n",
              "      border-color: transparent;\n",
              "      border-bottom-color: var(--fill-color);\n",
              "      border-left-color: var(--fill-color);\n",
              "    }\n",
              "    20% {\n",
              "      border-color: transparent;\n",
              "      border-left-color: var(--fill-color);\n",
              "      border-top-color: var(--fill-color);\n",
              "    }\n",
              "    30% {\n",
              "      border-color: transparent;\n",
              "      border-left-color: var(--fill-color);\n",
              "      border-top-color: var(--fill-color);\n",
              "      border-right-color: var(--fill-color);\n",
              "    }\n",
              "    40% {\n",
              "      border-color: transparent;\n",
              "      border-right-color: var(--fill-color);\n",
              "      border-top-color: var(--fill-color);\n",
              "    }\n",
              "    60% {\n",
              "      border-color: transparent;\n",
              "      border-right-color: var(--fill-color);\n",
              "    }\n",
              "    80% {\n",
              "      border-color: transparent;\n",
              "      border-right-color: var(--fill-color);\n",
              "      border-bottom-color: var(--fill-color);\n",
              "    }\n",
              "    90% {\n",
              "      border-color: transparent;\n",
              "      border-bottom-color: var(--fill-color);\n",
              "    }\n",
              "  }\n",
              "</style>\n",
              "\n",
              "  <script>\n",
              "    async function quickchart(key) {\n",
              "      const quickchartButtonEl =\n",
              "        document.querySelector('#' + key + ' button');\n",
              "      quickchartButtonEl.disabled = true;  // To prevent multiple clicks.\n",
              "      quickchartButtonEl.classList.add('colab-df-spinner');\n",
              "      try {\n",
              "        const charts = await google.colab.kernel.invokeFunction(\n",
              "            'suggestCharts', [key], {});\n",
              "      } catch (error) {\n",
              "        console.error('Error during call to suggestCharts:', error);\n",
              "      }\n",
              "      quickchartButtonEl.classList.remove('colab-df-spinner');\n",
              "      quickchartButtonEl.classList.add('colab-df-quickchart-complete');\n",
              "    }\n",
              "    (() => {\n",
              "      let quickchartButtonEl =\n",
              "        document.querySelector('#df-e3149f59-4509-42ad-a86f-4fe025176559 button');\n",
              "      quickchartButtonEl.style.display =\n",
              "        google.colab.kernel.accessAllowed ? 'block' : 'none';\n",
              "    })();\n",
              "  </script>\n",
              "</div>\n",
              "    </div>\n",
              "  </div>\n"
            ]
          },
          "metadata": {},
          "execution_count": 3
        }
      ],
      "source": [
        "# Load training data\n",
        "filename1 = 'captura.csv'\n",
        "#filename1 = 'bank-additional-full.csv'\n",
        "bank_df = pd.read_csv(filename1, delimiter=';', header=0)\n",
        "bank_df.head()"
      ]
    },
    {
      "cell_type": "code",
      "execution_count": 4,
      "id": "9c7232b8",
      "metadata": {
        "id": "9c7232b8",
        "outputId": "8f9eecd5-43e4-466b-8dc2-16aaac8650c1",
        "colab": {
          "base_uri": "https://localhost:8080/"
        }
      },
      "outputs": [
        {
          "output_type": "execute_result",
          "data": {
            "text/plain": [
              "No.             int64\n",
              "Time           object\n",
              "Source         object\n",
              "Destination    object\n",
              "Protocol       object\n",
              "Length          int64\n",
              "dtype: object"
            ]
          },
          "metadata": {},
          "execution_count": 4
        }
      ],
      "source": [
        "bank_df.dtypes"
      ]
    },
    {
      "cell_type": "code",
      "execution_count": 5,
      "id": "61279ad5",
      "metadata": {
        "id": "61279ad5",
        "outputId": "29052114-8b78-47c6-f1eb-e8be39e9172e",
        "colab": {
          "base_uri": "https://localhost:8080/",
          "height": 53
        }
      },
      "outputs": [
        {
          "output_type": "execute_result",
          "data": {
            "text/plain": [
              "Empty DataFrame\n",
              "Columns: [No., Time, Source, Destination, Protocol, Length]\n",
              "Index: []"
            ],
            "text/html": [
              "\n",
              "  <div id=\"df-ec9a634c-9076-4bed-a6f9-c242deac8033\" class=\"colab-df-container\">\n",
              "    <div>\n",
              "<style scoped>\n",
              "    .dataframe tbody tr th:only-of-type {\n",
              "        vertical-align: middle;\n",
              "    }\n",
              "\n",
              "    .dataframe tbody tr th {\n",
              "        vertical-align: top;\n",
              "    }\n",
              "\n",
              "    .dataframe thead th {\n",
              "        text-align: right;\n",
              "    }\n",
              "</style>\n",
              "<table border=\"1\" class=\"dataframe\">\n",
              "  <thead>\n",
              "    <tr style=\"text-align: right;\">\n",
              "      <th></th>\n",
              "      <th>No.</th>\n",
              "      <th>Time</th>\n",
              "      <th>Source</th>\n",
              "      <th>Destination</th>\n",
              "      <th>Protocol</th>\n",
              "      <th>Length</th>\n",
              "    </tr>\n",
              "  </thead>\n",
              "  <tbody>\n",
              "  </tbody>\n",
              "</table>\n",
              "</div>\n",
              "    <div class=\"colab-df-buttons\">\n",
              "\n",
              "  <div class=\"colab-df-container\">\n",
              "    <button class=\"colab-df-convert\" onclick=\"convertToInteractive('df-ec9a634c-9076-4bed-a6f9-c242deac8033')\"\n",
              "            title=\"Convert this dataframe to an interactive table.\"\n",
              "            style=\"display:none;\">\n",
              "\n",
              "  <svg xmlns=\"http://www.w3.org/2000/svg\" height=\"24px\" viewBox=\"0 -960 960 960\">\n",
              "    <path d=\"M120-120v-720h720v720H120Zm60-500h600v-160H180v160Zm220 220h160v-160H400v160Zm0 220h160v-160H400v160ZM180-400h160v-160H180v160Zm440 0h160v-160H620v160ZM180-180h160v-160H180v160Zm440 0h160v-160H620v160Z\"/>\n",
              "  </svg>\n",
              "    </button>\n",
              "\n",
              "  <style>\n",
              "    .colab-df-container {\n",
              "      display:flex;\n",
              "      gap: 12px;\n",
              "    }\n",
              "\n",
              "    .colab-df-convert {\n",
              "      background-color: #E8F0FE;\n",
              "      border: none;\n",
              "      border-radius: 50%;\n",
              "      cursor: pointer;\n",
              "      display: none;\n",
              "      fill: #1967D2;\n",
              "      height: 32px;\n",
              "      padding: 0 0 0 0;\n",
              "      width: 32px;\n",
              "    }\n",
              "\n",
              "    .colab-df-convert:hover {\n",
              "      background-color: #E2EBFA;\n",
              "      box-shadow: 0px 1px 2px rgba(60, 64, 67, 0.3), 0px 1px 3px 1px rgba(60, 64, 67, 0.15);\n",
              "      fill: #174EA6;\n",
              "    }\n",
              "\n",
              "    .colab-df-buttons div {\n",
              "      margin-bottom: 4px;\n",
              "    }\n",
              "\n",
              "    [theme=dark] .colab-df-convert {\n",
              "      background-color: #3B4455;\n",
              "      fill: #D2E3FC;\n",
              "    }\n",
              "\n",
              "    [theme=dark] .colab-df-convert:hover {\n",
              "      background-color: #434B5C;\n",
              "      box-shadow: 0px 1px 3px 1px rgba(0, 0, 0, 0.15);\n",
              "      filter: drop-shadow(0px 1px 2px rgba(0, 0, 0, 0.3));\n",
              "      fill: #FFFFFF;\n",
              "    }\n",
              "  </style>\n",
              "\n",
              "    <script>\n",
              "      const buttonEl =\n",
              "        document.querySelector('#df-ec9a634c-9076-4bed-a6f9-c242deac8033 button.colab-df-convert');\n",
              "      buttonEl.style.display =\n",
              "        google.colab.kernel.accessAllowed ? 'block' : 'none';\n",
              "\n",
              "      async function convertToInteractive(key) {\n",
              "        const element = document.querySelector('#df-ec9a634c-9076-4bed-a6f9-c242deac8033');\n",
              "        const dataTable =\n",
              "          await google.colab.kernel.invokeFunction('convertToInteractive',\n",
              "                                                    [key], {});\n",
              "        if (!dataTable) return;\n",
              "\n",
              "        const docLinkHtml = 'Like what you see? Visit the ' +\n",
              "          '<a target=\"_blank\" href=https://colab.research.google.com/notebooks/data_table.ipynb>data table notebook</a>'\n",
              "          + ' to learn more about interactive tables.';\n",
              "        element.innerHTML = '';\n",
              "        dataTable['output_type'] = 'display_data';\n",
              "        await google.colab.output.renderOutput(dataTable, element);\n",
              "        const docLink = document.createElement('div');\n",
              "        docLink.innerHTML = docLinkHtml;\n",
              "        element.appendChild(docLink);\n",
              "      }\n",
              "    </script>\n",
              "  </div>\n",
              "\n",
              "    </div>\n",
              "  </div>\n"
            ]
          },
          "metadata": {},
          "execution_count": 5
        }
      ],
      "source": [
        "bank_df[bank_df.isnull().any(axis=1)]"
      ]
    },
    {
      "cell_type": "markdown",
      "id": "a435b7cf-c1d9-4761-8beb-e252484f172e",
      "metadata": {
        "id": "a435b7cf-c1d9-4761-8beb-e252484f172e"
      },
      "source": [
        "\n",
        "**Data preprocessing**"
      ]
    },
    {
      "cell_type": "markdown",
      "id": "32a6996d",
      "metadata": {
        "id": "32a6996d"
      },
      "source": [
        "### Input variables:\n",
        "\n",
        "Bank client data:\n",
        "\n",
        "1. age (numeric)\n",
        "   \n",
        "2. job: type of job (categorical: \"admin.\",\"blue-collar\",\"entrepreneur\",\"housemaid\",\"management\",\"retired\",\"self-employed\",\"services\",\"student\",\"technician\",\"unemployed\",\"unknown\")\n",
        "\n",
        "3. marital: marital status (categorical: \"divorced\",\"married\",\"single\",\"unknown\"; note: \"divorced\" means divorced or widowed)\n",
        "\n",
        "4. education (categorical: \"basic.4y\",\"basic.6y\",\"basic.9y\",\"high.school\",\"illiterate\",\"professional.course\",\"university.degree\",\"unknown\")\n",
        "\n",
        "5. default: has credit in default? (categorical: \"no\",\"yes\",\"unknown\")\n",
        "\n",
        "6. housing: has housing loan? (categorical: \"no\",\"yes\",\"unknown\")\n",
        "\n",
        "7. loan: has personal loan? (categorical: \"no\",\"yes\",\"unknown\")\n",
        "\n",
        "related with the last contact of the current campaign:\n",
        "\n",
        "8. contact: contact communication type (categorical: \"cellular\",\"telephone\")\n",
        "\n",
        "9. month: last contact month of year (categorical: \"jan\", \"feb\", \"mar\", ..., \"nov\", \"dec\")\n",
        "\n",
        "10. day_of_week: last contact day of the week (categorical: \"mon\",\"tue\",\"wed\",\"thu\",\"fri\")\n",
        "\n",
        "11. duration: last contact duration, in seconds (numeric). Important note:  this attribute highly affects the output target (e.g., if duration=0 then y=\"no\"). Yet, the duration is not known before a call is performed. Also, after the end of the call y is obviously known. Thus, this input should only be included for benchmark purposes and should be discarded if the intention is to have a realistic predictive model.\n",
        "\n",
        "other attributes:\n",
        "\n",
        "12. campaign: number of contacts performed during this campaign and for this client (numeric, includes last contact)\n",
        "\n",
        "13. pdays: number of days that passed by after the client was last contacted from a previous campaign (numeric; 999 means client was not previously contacted)\n",
        "\n",
        "14. previous: number of contacts performed before this campaign and for this client (numeric)\n",
        "\n",
        "15. poutcome: outcome of the previous marketing campaign (categorical: \"failure\",\"nonexistent\",\"success\")\n",
        "\n",
        "social and economic context attributes\n",
        "\n",
        "16. emp.var.rate: employment variation rate - quarterly indicator (numeric)\n",
        "\n",
        "17. cons.price.idx: consumer price index - monthly indicator (numeric)\n",
        "\n",
        "18. cons.conf.idx: consumer confidence index - monthly indicator (numeric)\n",
        "\n",
        "19. euribor3m: euribor 3 month rate - daily indicator (numeric)\n",
        "\n",
        "20. nr.employed: number of employees - quarterly indicator (numeric)\n",
        "\n",
        "Output variable (desired target):\n",
        "\n",
        "21. y - has the client subscribed a term deposit? (binary: \"yes\",\"no\")"
      ]
    },
    {
      "cell_type": "code",
      "execution_count": 6,
      "id": "d72ec63c",
      "metadata": {
        "id": "d72ec63c",
        "outputId": "7720b06c-1152-4ac4-ec2f-16b9deb4df4c",
        "colab": {
          "base_uri": "https://localhost:8080/"
        }
      },
      "outputs": [
        {
          "output_type": "stream",
          "name": "stdout",
          "text": [
            "['Time', 'Source', 'Destination', 'Protocol']\n",
            "    No.  Time  Source  Destination  Protocol  Length\n",
            "0     1     0      22            7         5      60\n",
            "1     2     1       4            3         6     783\n",
            "2     3     2       2            1         2     110\n",
            "3     4     3       0            0         2     103\n",
            "4     5     5       1            4         1     367\n",
            "5     6     4       1            4         1     357\n",
            "6     7     6      23            5         0      42\n",
            "7     8     7      19            3         6     166\n",
            "8     9     9      17            3         6     166\n",
            "9    10     8      24            5         0      42\n",
            "10   11    10      16            3         6     198\n",
            "11   12    12      24            5         0      42\n",
            "12   13    11      11            3         6     166\n",
            "13   14    13      23            5         0      42\n",
            "14   15    14      18            3         6     166\n",
            "15   16    15      22            6         3     179\n",
            "16   17    16       9            3         6     804\n",
            "17   18    17      20            3         6     166\n",
            "18   19    19       3            2         4      92\n",
            "19   20    18       3            2         4      82\n",
            "20   21    21      23            5         0      42\n",
            "21   22    20      24            5         0      42\n",
            "22   23    22       6            3         6     804\n",
            "23   24    24       3            2         4      92\n",
            "24   25    23       3            2         4      82\n",
            "25   26    26       2            1         2     110\n",
            "26   27    25      12            3         6     166\n",
            "27   28    27       0            0         2      84\n",
            "28   29    30       3            2         4      92\n",
            "29   30    29       3            2         4      82\n",
            "30   31    28      16            3         6     207\n",
            "31   32    31       7            3         6     804\n",
            "32   33    32       5            3         6     166\n",
            "33   34    33      10            3         6     207\n",
            "34   35    34      21            3         6     166\n",
            "35   36    35      23            5         0      42\n",
            "36   37    36      22            7         5      60\n",
            "37   38    37      14            3         6     207\n",
            "38   39    38      13            3         6     166\n",
            "39   40    39       4            3         6     783\n",
            "40   41    40      23            5         0      42\n",
            "41   42    41      15            3         6     166\n",
            "42   43    42      11            3         6     804\n",
            "43   44    43       8            3         6     166\n",
            "44   45    44      23            5         0      42\n"
          ]
        }
      ],
      "source": [
        "\n",
        "catCols = [col for col in bank_df.columns if bank_df[col].dtype==\"O\"]\n",
        "print(catCols)\n",
        "\n",
        "lb_make = LabelEncoder()\n",
        "\n",
        "for item in catCols:\n",
        "    bank_df[item] = lb_make.fit_transform(bank_df[item])\n",
        "\n",
        "print(bank_df)"
      ]
    },
    {
      "cell_type": "code",
      "execution_count": 7,
      "id": "223e32ce",
      "metadata": {
        "id": "223e32ce"
      },
      "outputs": [],
      "source": [
        "min_max_scaler = MinMaxScaler()\n",
        "x_scaled = min_max_scaler.fit_transform(bank_df)\n",
        "bank_df = pd.DataFrame(x_scaled)"
      ]
    },
    {
      "cell_type": "code",
      "execution_count": 8,
      "id": "d138b31c",
      "metadata": {
        "id": "d138b31c",
        "outputId": "2b6faaea-9d59-4bd4-88ef-23d9a55196ae",
        "colab": {
          "base_uri": "https://localhost:8080/"
        }
      },
      "outputs": [
        {
          "output_type": "stream",
          "name": "stdout",
          "text": [
            "           0         1         2         3         4         5\n",
            "26  0.590909  0.568182  0.500000  0.428571  1.000000  0.162730\n",
            "16  0.363636  0.363636  0.375000  0.428571  1.000000  1.000000\n",
            "32  0.727273  0.727273  0.208333  0.428571  1.000000  0.162730\n",
            "31  0.704545  0.704545  0.291667  0.428571  1.000000  1.000000\n",
            "40  0.909091  0.909091  0.958333  0.714286  0.000000  0.000000\n",
            "30  0.681818  0.636364  0.666667  0.428571  1.000000  0.216535\n",
            "39  0.886364  0.886364  0.166667  0.428571  1.000000  0.972441\n",
            "4   0.090909  0.113636  0.041667  0.571429  0.166667  0.426509\n",
            "17  0.386364  0.386364  0.833333  0.428571  1.000000  0.162730\n",
            "14  0.318182  0.318182  0.750000  0.428571  1.000000  0.162730\n",
            "18  0.409091  0.431818  0.125000  0.285714  0.666667  0.065617\n",
            "29  0.659091  0.659091  0.125000  0.285714  0.666667  0.052493\n",
            "15  0.340909  0.340909  0.916667  0.857143  0.500000  0.179790\n",
            "38  0.863636  0.863636  0.541667  0.428571  1.000000  0.162730\n",
            "11  0.250000  0.272727  1.000000  0.714286  0.000000  0.000000\n",
            "44  1.000000  1.000000  0.958333  0.714286  0.000000  0.000000\n",
            "21  0.477273  0.454545  1.000000  0.714286  0.000000  0.000000\n",
            "35  0.795455  0.795455  0.958333  0.714286  0.000000  0.000000\n",
            "12  0.272727  0.250000  0.458333  0.428571  1.000000  0.162730\n",
            "36  0.818182  0.818182  0.916667  1.000000  0.833333  0.023622\n",
            "13  0.295455  0.295455  0.958333  0.714286  0.000000  0.000000\n",
            "42  0.954545  0.954545  0.458333  0.428571  1.000000  1.000000\n",
            "22  0.500000  0.500000  0.250000  0.428571  1.000000  1.000000\n",
            "19  0.431818  0.409091  0.125000  0.285714  0.666667  0.052493\n",
            "34  0.772727  0.772727  0.875000  0.428571  1.000000  0.162730\n",
            "27  0.613636  0.613636  0.000000  0.000000  0.333333  0.055118\n",
            "37  0.840909  0.840909  0.583333  0.428571  1.000000  0.216535\n",
            "25  0.568182  0.590909  0.083333  0.142857  0.333333  0.089239\n",
            "10  0.227273  0.227273  0.666667  0.428571  1.000000  0.204724\n",
            "7   0.159091  0.159091  0.791667  0.428571  1.000000  0.162730\n",
            "2   0.045455  0.045455  0.083333  0.142857  0.333333  0.089239\n",
            "23  0.522727  0.545455  0.125000  0.285714  0.666667  0.065617\n",
            "1   0.022727  0.022727  0.166667  0.428571  1.000000  0.972441\n",
            "9   0.204545  0.181818  1.000000  0.714286  0.000000  0.000000\n",
            "3   0.068182  0.068182  0.000000  0.000000  0.333333  0.080052\n",
            "33  0.750000  0.750000  0.416667  0.428571  1.000000  0.216535\n",
            "           0         1         2         3         4         5\n",
            "0   0.000000  0.000000  0.916667  1.000000  0.833333  0.023622\n",
            "5   0.113636  0.090909  0.041667  0.571429  0.166667  0.413386\n",
            "41  0.931818  0.931818  0.625000  0.428571  1.000000  0.162730\n",
            "28  0.636364  0.681818  0.125000  0.285714  0.666667  0.065617\n",
            "6   0.136364  0.136364  0.958333  0.714286  0.000000  0.000000\n",
            "24  0.545455  0.522727  0.125000  0.285714  0.666667  0.052493\n",
            "20  0.454545  0.477273  0.958333  0.714286  0.000000  0.000000\n",
            "8   0.181818  0.204545  0.708333  0.428571  1.000000  0.162730\n",
            "43  0.977273  0.977273  0.333333  0.428571  1.000000  0.162730\n"
          ]
        }
      ],
      "source": [
        "train_df, test_df = train_test_split(bank_df, test_size=0.2)\n",
        "print(train_df)\n",
        "print(test_df)"
      ]
    },
    {
      "cell_type": "markdown",
      "id": "46156221-2155-40cc-912a-599a4aa2bb11",
      "metadata": {
        "jp-MarkdownHeadingCollapsed": true,
        "tags": [],
        "id": "46156221-2155-40cc-912a-599a4aa2bb11"
      },
      "source": [
        "\n",
        "** Cross validation Using k-fold CV**"
      ]
    },
    {
      "cell_type": "code",
      "execution_count": 11,
      "id": "8e4b88f5-57fe-4e23-a4ac-8b39ed4bc689",
      "metadata": {
        "id": "8e4b88f5-57fe-4e23-a4ac-8b39ed4bc689",
        "outputId": "c910f7e2-3d93-48be-c514-35dbde9cf0b1",
        "colab": {
          "base_uri": "https://localhost:8080/",
          "height": 1000
        }
      },
      "outputs": [
        {
          "output_type": "stream",
          "name": "stdout",
          "text": [
            "K-fold ---------------------------------------------------------------\n",
            "Model accuracy: 1.0\n"
          ]
        },
        {
          "output_type": "display_data",
          "data": {
            "text/plain": [
              "<Figure size 640x480 with 2 Axes>"
            ],
            "image/png": "[encoded data removed]"
          },
          "metadata": {}
        },
        {
          "output_type": "stream",
          "name": "stdout",
          "text": [
            "Confusion matrix:\n",
            " [[2 0]\n",
            " [0 7]]\n",
            "Percentage classification error obtained from validation set: 0.0%\n",
            "K-fold ---------------------------------------------------------------\n",
            "Model accuracy: 0.8888888888888888\n"
          ]
        },
        {
          "output_type": "display_data",
          "data": {
            "text/plain": [
              "<Figure size 640x480 with 2 Axes>"
            ],
            "image/png": "[encoded data removed]"
          },
          "metadata": {}
        },
        {
          "output_type": "stream",
          "name": "stdout",
          "text": [
            "Confusion matrix:\n",
            " [[6 1]\n",
            " [0 2]]\n",
            "Percentage classification error obtained from validation set: 11.11111111111111%\n",
            "K-fold ---------------------------------------------------------------\n",
            "Model accuracy: 1.0\n"
          ]
        },
        {
          "output_type": "display_data",
          "data": {
            "text/plain": [
              "<Figure size 640x480 with 2 Axes>"
            ],
            "image/png": "[encoded data removed]"
          },
          "metadata": {}
        },
        {
          "output_type": "stream",
          "name": "stdout",
          "text": [
            "Confusion matrix:\n",
            " [[4 0]\n",
            " [0 5]]\n",
            "Percentage classification error obtained from validation set: 0.0%\n",
            "K-fold ---------------------------------------------------------------\n",
            "Model accuracy: 0.8888888888888888\n"
          ]
        },
        {
          "output_type": "display_data",
          "data": {
            "text/plain": [
              "<Figure size 640x480 with 2 Axes>"
            ],
            "image/png": "[encoded data removed]"
          },
          "metadata": {}
        },
        {
          "output_type": "stream",
          "name": "stdout",
          "text": [
            "Confusion matrix:\n",
            " [[5 0]\n",
            " [1 3]]\n",
            "Percentage classification error obtained from validation set: 11.11111111111111%\n",
            "Mean percentage classification error obtained from cross validation: 5.555555555555555%\n"
          ]
        }
      ],
      "source": [
        "X_train = train_df.iloc[:,0:4].to_numpy()\n",
        "y_train = train_df.iloc[:,4].astype(int).to_numpy()\n",
        "\n",
        "cv_percentage_classification_errors = list()\n",
        "\n",
        "# 4-fold cross-validation\n",
        "kf = KFold(n_splits=4)\n",
        "for train, validation in kf.split(X_train):\n",
        "    print('K-fold ---------------------------------------------------------------')\n",
        "\n",
        "    # Create the SVM estimator\n",
        "    clf = SVC(kernel='rbf', random_state=0)\n",
        "\n",
        "    # Train the model using the training set\n",
        "    clf.fit(X_train[train], y_train[train])\n",
        "\n",
        "    # Generate predictions\n",
        "    y_pred = clf.predict(X_train[validation])\n",
        "\n",
        "    # Evaluate by means of accuracy\n",
        "    accuracy = accuracy_score(y_train[validation], y_pred)\n",
        "    print(f'Model accuracy: {accuracy}')\n",
        "\n",
        "    # Evaluate by means of a confusion matrix\n",
        "    disp = ConfusionMatrixDisplay.from_predictions(y_train[validation], y_pred,\n",
        "                                                   labels=clf.classes_,\n",
        "                                                   display_labels=clf.classes_,\n",
        "                                                   cmap=plt.cm.Blues,\n",
        "                                                   normalize='true')\n",
        "    plt.show()\n",
        "\n",
        "    cm = confusion_matrix(y_train[validation], y_pred)\n",
        "    print('Confusion matrix:\\n', cm)\n",
        "\n",
        "    # Calculate the percentage classification error obtained from validation test\n",
        "    percentage_classification_error = 100 * ((cm[0][1] + cm[1][0]) / (cm[0][0] + cm[1][1] + cm[0][1] + cm[1][0]))\n",
        "    print(f'Percentage classification error obtained from validation set: {percentage_classification_error}%')\n",
        "\n",
        "    cv_percentage_classification_errors.append(percentage_classification_error)\n",
        "\n",
        "# Calculate the mean percentage classification error obtained from cross-validation\n",
        "print(f'Mean percentage classification error obtained from cross validation: {np.mean(cv_percentage_classification_errors)}%')"
      ]
    },
    {
      "cell_type": "markdown",
      "id": "c17f99b1-28f8-4358-ad93-860975abac3c",
      "metadata": {
        "jp-MarkdownHeadingCollapsed": true,
        "tags": [],
        "id": "c17f99b1-28f8-4358-ad93-860975abac3c"
      },
      "source": [
        "\n",
        " **Training**"
      ]
    },
    {
      "cell_type": "code",
      "execution_count": 12,
      "id": "a0a6d2fa-3e87-4a69-a042-57934ed9b2a6",
      "metadata": {
        "id": "a0a6d2fa-3e87-4a69-a042-57934ed9b2a6",
        "outputId": "5ac0a542-8675-47ed-83a6-13b489d7e87f",
        "colab": {
          "base_uri": "https://localhost:8080/",
          "height": 112
        }
      },
      "outputs": [
        {
          "output_type": "stream",
          "name": "stdout",
          "text": [
            "Names and current values for all parameters for the estimator:  {'C': 1.0, 'break_ties': False, 'cache_size': 200, 'class_weight': None, 'coef0': 0.0, 'decision_function_shape': 'ovr', 'degree': 3, 'gamma': 'scale', 'kernel': 'rbf', 'max_iter': -1, 'probability': False, 'random_state': 0, 'shrinking': True, 'tol': 0.001, 'verbose': False}\n"
          ]
        },
        {
          "output_type": "execute_result",
          "data": {
            "text/plain": [
              "SVC(random_state=0)"
            ],
            "text/html": [
              "<style>#sk-container-id-1 {color: black;background-color: white;}#sk-container-id-1 pre{padding: 0;}#sk-container-id-1 div.sk-toggleable {background-color: white;}#sk-container-id-1 label.sk-toggleable__label {cursor: pointer;display: block;width: 100%;margin-bottom: 0;padding: 0.3em;box-sizing: border-box;text-align: center;}#sk-container-id-1 label.sk-toggleable__label-arrow:before {content: \"▸\";float: left;margin-right: 0.25em;color: #696969;}#sk-container-id-1 label.sk-toggleable__label-arrow:hover:before {color: black;}#sk-container-id-1 div.sk-estimator:hover label.sk-toggleable__label-arrow:before {color: black;}#sk-container-id-1 div.sk-toggleable__content {max-height: 0;max-width: 0;overflow: hidden;text-align: left;background-color: #f0f8ff;}#sk-container-id-1 div.sk-toggleable__content pre {margin: 0.2em;color: black;border-radius: 0.25em;background-color: #f0f8ff;}#sk-container-id-1 input.sk-toggleable__control:checked~div.sk-toggleable__content {max-height: 200px;max-width: 100%;overflow: auto;}#sk-container-id-1 input.sk-toggleable__control:checked~label.sk-toggleable__label-arrow:before {content: \"▾\";}#sk-container-id-1 div.sk-estimator input.sk-toggleable__control:checked~label.sk-toggleable__label {background-color: #d4ebff;}#sk-container-id-1 div.sk-label input.sk-toggleable__control:checked~label.sk-toggleable__label {background-color: #d4ebff;}#sk-container-id-1 input.sk-hidden--visually {border: 0;clip: rect(1px 1px 1px 1px);clip: rect(1px, 1px, 1px, 1px);height: 1px;margin: -1px;overflow: hidden;padding: 0;position: absolute;width: 1px;}#sk-container-id-1 div.sk-estimator {font-family: monospace;background-color: #f0f8ff;border: 1px dotted black;border-radius: 0.25em;box-sizing: border-box;margin-bottom: 0.5em;}#sk-container-id-1 div.sk-estimator:hover {background-color: #d4ebff;}#sk-container-id-1 div.sk-parallel-item::after {content: \"\";width: 100%;border-bottom: 1px solid gray;flex-grow: 1;}#sk-container-id-1 div.sk-label:hover label.sk-toggleable__label {background-color: #d4ebff;}#sk-container-id-1 div.sk-serial::before {content: \"\";position: absolute;border-left: 1px solid gray;box-sizing: border-box;top: 0;bottom: 0;left: 50%;z-index: 0;}#sk-container-id-1 div.sk-serial {display: flex;flex-direction: column;align-items: center;background-color: white;padding-right: 0.2em;padding-left: 0.2em;position: relative;}#sk-container-id-1 div.sk-item {position: relative;z-index: 1;}#sk-container-id-1 div.sk-parallel {display: flex;align-items: stretch;justify-content: center;background-color: white;position: relative;}#sk-container-id-1 div.sk-item::before, #sk-container-id-1 div.sk-parallel-item::before {content: \"\";position: absolute;border-left: 1px solid gray;box-sizing: border-box;top: 0;bottom: 0;left: 50%;z-index: -1;}#sk-container-id-1 div.sk-parallel-item {display: flex;flex-direction: column;z-index: 1;position: relative;background-color: white;}#sk-container-id-1 div.sk-parallel-item:first-child::after {align-self: flex-end;width: 50%;}#sk-container-id-1 div.sk-parallel-item:last-child::after {align-self: flex-start;width: 50%;}#sk-container-id-1 div.sk-parallel-item:only-child::after {width: 0;}#sk-container-id-1 div.sk-dashed-wrapped {border: 1px dashed gray;margin: 0 0.4em 0.5em 0.4em;box-sizing: border-box;padding-bottom: 0.4em;background-color: white;}#sk-container-id-1 div.sk-label label {font-family: monospace;font-weight: bold;display: inline-block;line-height: 1.2em;}#sk-container-id-1 div.sk-label-container {text-align: center;}#sk-container-id-1 div.sk-container {/* jupyter's `normalize.less` sets `[hidden] { display: none; }` but bootstrap.min.css set `[hidden] { display: none !important; }` so we also need the `!important` here to be able to override the default hidden behavior on the sphinx rendered scikit-learn.org. See: https://github.com/scikit-learn/scikit-learn/issues/21755 */display: inline-block !important;position: relative;}#sk-container-id-1 div.sk-text-repr-fallback {display: none;}</style><div id=\"sk-container-id-1\" class=\"sk-top-container\"><div class=\"sk-text-repr-fallback\"><pre>SVC(random_state=0)</pre><b>In a Jupyter environment, please rerun this cell to show the HTML representation or trust the notebook. <br />On GitHub, the HTML representation is unable to render, please try loading this page with nbviewer.org.</b></div><div class=\"sk-container\" hidden><div class=\"sk-item\"><div class=\"sk-estimator sk-toggleable\"><input class=\"sk-toggleable__control sk-hidden--visually\" id=\"sk-estimator-id-1\" type=\"checkbox\" checked><label for=\"sk-estimator-id-1\" class=\"sk-toggleable__label sk-toggleable__label-arrow\">SVC</label><div class=\"sk-toggleable__content\"><pre>SVC(random_state=0)</pre></div></div></div></div></div>"
            ]
          },
          "metadata": {},
          "execution_count": 12
        }
      ],
      "source": [
        "# Create the SVM estimator\n",
        "clf = SVC(kernel='rbf', random_state=0)\n",
        "print('Names and current values for all parameters for the estimator: ', clf.get_params())\n",
        "\n",
        "# Train the model using 'all' the training set\n",
        "clf.fit(X_train, y_train)"
      ]
    },
    {
      "cell_type": "markdown",
      "id": "7f405d59-a152-4e17-8ea1-d29758d95457",
      "metadata": {
        "jp-MarkdownHeadingCollapsed": true,
        "tags": [],
        "id": "7f405d59-a152-4e17-8ea1-d29758d95457"
      },
      "source": [
        "\n",
        "**Test**"
      ]
    },
    {
      "cell_type": "code",
      "execution_count": 14,
      "id": "bcff9799-db80-4036-bb16-3a59428afb20",
      "metadata": {
        "id": "bcff9799-db80-4036-bb16-3a59428afb20",
        "outputId": "8e6c1035-aa3f-49f0-ee32-d8c83ed13115",
        "colab": {
          "base_uri": "https://localhost:8080/",
          "height": 542
        }
      },
      "outputs": [
        {
          "output_type": "stream",
          "name": "stdout",
          "text": [
            "Model accuracy: 1.0\n"
          ]
        },
        {
          "output_type": "display_data",
          "data": {
            "text/plain": [
              "<Figure size 640x480 with 2 Axes>"
            ],
            "image/png": "[encoded data removed]"
          },
          "metadata": {}
        },
        {
          "output_type": "stream",
          "name": "stdout",
          "text": [
            "Confusion matrix:\n",
            " [[6 0]\n",
            " [0 3]]\n",
            "Percentage classification error obtained from test set: 0.0%\n"
          ]
        }
      ],
      "source": [
        "X_test = test_df.iloc[:,0:4].to_numpy()\n",
        "y_test = test_df.iloc[:,4].astype(int).to_numpy()\n",
        "\n",
        "# Generate predictions\n",
        "y_pred = clf.predict(X_test)\n",
        "\n",
        "# Evaluate by means of accuracy\n",
        "accuracy = accuracy_score(y_test, y_pred)\n",
        "print(f'Model accuracy: {accuracy}')\n",
        "\n",
        "# Evaluate by means of a confusion matrix\n",
        "disp = ConfusionMatrixDisplay.from_predictions(y_test, y_pred,\n",
        "                                               labels=clf.classes_,\n",
        "                                               display_labels=clf.classes_,\n",
        "                                               cmap=plt.cm.Blues,\n",
        "                                               normalize='true')\n",
        "plt.show()\n",
        "\n",
        "cm = confusion_matrix(y_test, y_pred)\n",
        "print('Confusion matrix:\\n', cm)\n",
        "\n",
        "# Calculate the percentage classification error obtained from test set\n",
        "percentage_classification_error = 100 * ((cm[0][1] + cm[1][0]) / (cm[0][0] + cm[1][1] + cm[0][1] + cm[1][0]))\n",
        "print(f'Percentage classification error obtained from test set: {percentage_classification_error}%')"
      ]
    },
    {
      "cell_type": "code",
      "execution_count": 18,
      "id": "9d36c76a",
      "metadata": {
        "id": "9d36c76a"
      },
      "outputs": [],
      "source": [
        "bank_svm_results = { 'real_value': y_test,\n",
        "                    'prediction': y_pred}\n",
        "\n",
        "df = pd.DataFrame(bank_svm_results)\n",
        "\n",
        "df.to_csv('captura_svm_results.csv')"
      ]
    }
  ],
  "metadata": {
    "kernelspec": {
      "display_name": "Python 3 (ipykernel)",
      "language": "python",
      "name": "python3"
    },
    "language_info": {
      "codemirror_mode": {
        "name": "ipython",
        "version": 3
      },
      "file_extension": ".py",
      "mimetype": "text/x-python",
      "name": "python",
      "nbconvert_exporter": "python",
      "pygments_lexer": "ipython3",
      "version": "3.9.7"
    },
    "colab": {
      "provenance": []
    }
  },
  "nbformat": 4,
  "nbformat_minor": 5
}