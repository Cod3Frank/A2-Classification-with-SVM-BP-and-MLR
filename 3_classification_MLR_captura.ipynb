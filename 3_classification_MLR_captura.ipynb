{
  "cells": [
    {
      "cell_type": "markdown",
      "id": "6fb35b37-7059-4306-8ba0-b018d00ee1f7",
      "metadata": {
        "tags": [],
        "id": "6fb35b37-7059-4306-8ba0-b018d00ee1f7"
      },
      "source": [
        "**Multiple Linear Regression (MLR) || captura**"
      ]
    },
    {
      "cell_type": "markdown",
      "id": "764d20e7-1615-4086-849c-546747540c94",
      "metadata": {
        "jp-MarkdownHeadingCollapsed": true,
        "tags": [],
        "id": "764d20e7-1615-4086-849c-546747540c94"
      },
      "source": [
        "\n",
        "**Import modules**"
      ]
    },
    {
      "cell_type": "code",
      "execution_count": 1,
      "id": "15fc918d-8adb-477b-ac0a-b3f6cc0a11aa",
      "metadata": {
        "tags": [],
        "id": "15fc918d-8adb-477b-ac0a-b3f6cc0a11aa"
      },
      "outputs": [],
      "source": [
        "import pandas as pd\n",
        "from sklearn.linear_model import LinearRegression\n",
        "from sklearn.model_selection import KFold, train_test_split, cross_val_score\n",
        "import numpy as np\n",
        "import matplotlib.pyplot as plt\n",
        "from sklearn.metrics import confusion_matrix, ConfusionMatrixDisplay, accuracy_score\n",
        "from sklearn.preprocessing import LabelEncoder"
      ]
    },
    {
      "cell_type": "markdown",
      "id": "78b748b6-77b4-4ebc-b59a-ec9fcb07315c",
      "metadata": {
        "jp-MarkdownHeadingCollapsed": true,
        "tags": [],
        "id": "78b748b6-77b4-4ebc-b59a-ec9fcb07315c"
      },
      "source": [
        "\n",
        "**Load dataset**"
      ]
    },
    {
      "cell_type": "code",
      "execution_count": 2,
      "id": "b9294084-c748-44b4-9c5d-3cea48a0713c",
      "metadata": {
        "tags": [],
        "id": "b9294084-c748-44b4-9c5d-3cea48a0713c",
        "outputId": "f7c0325d-891c-42be-c781-77c53c796652",
        "colab": {
          "base_uri": "https://localhost:8080/",
          "height": 206
        }
      },
      "outputs": [
        {
          "output_type": "execute_result",
          "data": {
            "text/plain": [
              "   No.      Time             Source                     Destination Protocol  \\\n",
              "0    1  0.000000  Alcatel-_19:39:41  Spanning-tree-(for-bridges)_00      STP   \n",
              "1    2  0.130454          68.55.0.1                       224.9.9.4      UDP   \n",
              "2    3  0.147551      192.168.168.1                   192.168.168.1     ICMP   \n",
              "3    4  0.147606     132.32.128.200                  132.32.128.200     ICMP   \n",
              "4    5  0.374202        172.31.48.1                 255.255.255.255     DHCP   \n",
              "\n",
              "   Length  \n",
              "0      60  \n",
              "1     783  \n",
              "2     110  \n",
              "3     103  \n",
              "4     367  "
            ],
            "text/html": [
              "\n",
              "  <div id=\"df-554de42b-e430-4fc6-a9ce-1fe7bc5f6601\" class=\"colab-df-container\">\n",
              "    <div>\n",
              "<style scoped>\n",
              "    .dataframe tbody tr th:only-of-type {\n",
              "        vertical-align: middle;\n",
              "    }\n",
              "\n",
              "    .dataframe tbody tr th {\n",
              "        vertical-align: top;\n",
              "    }\n",
              "\n",
              "    .dataframe thead th {\n",
              "        text-align: right;\n",
              "    }\n",
              "</style>\n",
              "<table border=\"1\" class=\"dataframe\">\n",
              "  <thead>\n",
              "    <tr style=\"text-align: right;\">\n",
              "      <th></th>\n",
              "      <th>No.</th>\n",
              "      <th>Time</th>\n",
              "      <th>Source</th>\n",
              "      <th>Destination</th>\n",
              "      <th>Protocol</th>\n",
              "      <th>Length</th>\n",
              "    </tr>\n",
              "  </thead>\n",
              "  <tbody>\n",
              "    <tr>\n",
              "      <th>0</th>\n",
              "      <td>1</td>\n",
              "      <td>0.000000</td>\n",
              "      <td>Alcatel-_19:39:41</td>\n",
              "      <td>Spanning-tree-(for-bridges)_00</td>\n",
              "      <td>STP</td>\n",
              "      <td>60</td>\n",
              "    </tr>\n",
              "    <tr>\n",
              "      <th>1</th>\n",
              "      <td>2</td>\n",
              "      <td>0.130454</td>\n",
              "      <td>68.55.0.1</td>\n",
              "      <td>224.9.9.4</td>\n",
              "      <td>UDP</td>\n",
              "      <td>783</td>\n",
              "    </tr>\n",
              "    <tr>\n",
              "      <th>2</th>\n",
              "      <td>3</td>\n",
              "      <td>0.147551</td>\n",
              "      <td>192.168.168.1</td>\n",
              "      <td>192.168.168.1</td>\n",
              "      <td>ICMP</td>\n",
              "      <td>110</td>\n",
              "    </tr>\n",
              "    <tr>\n",
              "      <th>3</th>\n",
              "      <td>4</td>\n",
              "      <td>0.147606</td>\n",
              "      <td>132.32.128.200</td>\n",
              "      <td>132.32.128.200</td>\n",
              "      <td>ICMP</td>\n",
              "      <td>103</td>\n",
              "    </tr>\n",
              "    <tr>\n",
              "      <th>4</th>\n",
              "      <td>5</td>\n",
              "      <td>0.374202</td>\n",
              "      <td>172.31.48.1</td>\n",
              "      <td>255.255.255.255</td>\n",
              "      <td>DHCP</td>\n",
              "      <td>367</td>\n",
              "    </tr>\n",
              "  </tbody>\n",
              "</table>\n",
              "</div>\n",
              "    <div class=\"colab-df-buttons\">\n",
              "\n",
              "  <div class=\"colab-df-container\">\n",
              "    <button class=\"colab-df-convert\" onclick=\"convertToInteractive('df-554de42b-e430-4fc6-a9ce-1fe7bc5f6601')\"\n",
              "            title=\"Convert this dataframe to an interactive table.\"\n",
              "            style=\"display:none;\">\n",
              "\n",
              "  <svg xmlns=\"http://www.w3.org/2000/svg\" height=\"24px\" viewBox=\"0 -960 960 960\">\n",
              "    <path d=\"M120-120v-720h720v720H120Zm60-500h600v-160H180v160Zm220 220h160v-160H400v160Zm0 220h160v-160H400v160ZM180-400h160v-160H180v160Zm440 0h160v-160H620v160ZM180-180h160v-160H180v160Zm440 0h160v-160H620v160Z\"/>\n",
              "  </svg>\n",
              "    </button>\n",
              "\n",
              "  <style>\n",
              "    .colab-df-container {\n",
              "      display:flex;\n",
              "      gap: 12px;\n",
              "    }\n",
              "\n",
              "    .colab-df-convert {\n",
              "      background-color: #E8F0FE;\n",
              "      border: none;\n",
              "      border-radius: 50%;\n",
              "      cursor: pointer;\n",
              "      display: none;\n",
              "      fill: #1967D2;\n",
              "      height: 32px;\n",
              "      padding: 0 0 0 0;\n",
              "      width: 32px;\n",
              "    }\n",
              "\n",
              "    .colab-df-convert:hover {\n",
              "      background-color: #E2EBFA;\n",
              "      box-shadow: 0px 1px 2px rgba(60, 64, 67, 0.3), 0px 1px 3px 1px rgba(60, 64, 67, 0.15);\n",
              "      fill: #174EA6;\n",
              "    }\n",
              "\n",
              "    .colab-df-buttons div {\n",
              "      margin-bottom: 4px;\n",
              "    }\n",
              "\n",
              "    [theme=dark] .colab-df-convert {\n",
              "      background-color: #3B4455;\n",
              "      fill: #D2E3FC;\n",
              "    }\n",
              "\n",
              "    [theme=dark] .colab-df-convert:hover {\n",
              "      background-color: #434B5C;\n",
              "      box-shadow: 0px 1px 3px 1px rgba(0, 0, 0, 0.15);\n",
              "      filter: drop-shadow(0px 1px 2px rgba(0, 0, 0, 0.3));\n",
              "      fill: #FFFFFF;\n",
              "    }\n",
              "  </style>\n",
              "\n",
              "    <script>\n",
              "      const buttonEl =\n",
              "        document.querySelector('#df-554de42b-e430-4fc6-a9ce-1fe7bc5f6601 button.colab-df-convert');\n",
              "      buttonEl.style.display =\n",
              "        google.colab.kernel.accessAllowed ? 'block' : 'none';\n",
              "\n",
              "      async function convertToInteractive(key) {\n",
              "        const element = document.querySelector('#df-554de42b-e430-4fc6-a9ce-1fe7bc5f6601');\n",
              "        const dataTable =\n",
              "          await google.colab.kernel.invokeFunction('convertToInteractive',\n",
              "                                                    [key], {});\n",
              "        if (!dataTable) return;\n",
              "\n",
              "        const docLinkHtml = 'Like what you see? Visit the ' +\n",
              "          '<a target=\"_blank\" href=https://colab.research.google.com/notebooks/data_table.ipynb>data table notebook</a>'\n",
              "          + ' to learn more about interactive tables.';\n",
              "        element.innerHTML = '';\n",
              "        dataTable['output_type'] = 'display_data';\n",
              "        await google.colab.output.renderOutput(dataTable, element);\n",
              "        const docLink = document.createElement('div');\n",
              "        docLink.innerHTML = docLinkHtml;\n",
              "        element.appendChild(docLink);\n",
              "      }\n",
              "    </script>\n",
              "  </div>\n",
              "\n",
              "\n",
              "<div id=\"df-9c37099f-6956-4727-913b-0ab06d34dd6c\">\n",
              "  <button class=\"colab-df-quickchart\" onclick=\"quickchart('df-9c37099f-6956-4727-913b-0ab06d34dd6c')\"\n",
              "            title=\"Suggest charts\"\n",
              "            style=\"display:none;\">\n",
              "\n",
              "<svg xmlns=\"http://www.w3.org/2000/svg\" height=\"24px\"viewBox=\"0 0 24 24\"\n",
              "     width=\"24px\">\n",
              "    <g>\n",
              "        <path d=\"M19 3H5c-1.1 0-2 .9-2 2v14c0 1.1.9 2 2 2h14c1.1 0 2-.9 2-2V5c0-1.1-.9-2-2-2zM9 17H7v-7h2v7zm4 0h-2V7h2v10zm4 0h-2v-4h2v4z\"/>\n",
              "    </g>\n",
              "</svg>\n",
              "  </button>\n",
              "\n",
              "<style>\n",
              "  .colab-df-quickchart {\n",
              "      --bg-color: #E8F0FE;\n",
              "      --fill-color: #1967D2;\n",
              "      --hover-bg-color: #E2EBFA;\n",
              "      --hover-fill-color: #174EA6;\n",
              "      --disabled-fill-color: #AAA;\n",
              "      --disabled-bg-color: #DDD;\n",
              "  }\n",
              "\n",
              "  [theme=dark] .colab-df-quickchart {\n",
              "      --bg-color: #3B4455;\n",
              "      --fill-color: #D2E3FC;\n",
              "      --hover-bg-color: #434B5C;\n",
              "      --hover-fill-color: #FFFFFF;\n",
              "      --disabled-bg-color: #3B4455;\n",
              "      --disabled-fill-color: #666;\n",
              "  }\n",
              "\n",
              "  .colab-df-quickchart {\n",
              "    background-color: var(--bg-color);\n",
              "    border: none;\n",
              "    border-radius: 50%;\n",
              "    cursor: pointer;\n",
              "    display: none;\n",
              "    fill: var(--fill-color);\n",
              "    height: 32px;\n",
              "    padding: 0;\n",
              "    width: 32px;\n",
              "  }\n",
              "\n",
              "  .colab-df-quickchart:hover {\n",
              "    background-color: var(--hover-bg-color);\n",
              "    box-shadow: 0 1px 2px rgba(60, 64, 67, 0.3), 0 1px 3px 1px rgba(60, 64, 67, 0.15);\n",
              "    fill: var(--button-hover-fill-color);\n",
              "  }\n",
              "\n",
              "  .colab-df-quickchart-complete:disabled,\n",
              "  .colab-df-quickchart-complete:disabled:hover {\n",
              "    background-color: var(--disabled-bg-color);\n",
              "    fill: var(--disabled-fill-color);\n",
              "    box-shadow: none;\n",
              "  }\n",
              "\n",
              "  .colab-df-spinner {\n",
              "    border: 2px solid var(--fill-color);\n",
              "    border-color: transparent;\n",
              "    border-bottom-color: var(--fill-color);\n",
              "    animation:\n",
              "      spin 1s steps(1) infinite;\n",
              "  }\n",
              "\n",
              "  @keyframes spin {\n",
              "    0% {\n",
              "      border-color: transparent;\n",
              "      border-bottom-color: var(--fill-color);\n",
              "      border-left-color: var(--fill-color);\n",
              "    }\n",
              "    20% {\n",
              "      border-color: transparent;\n",
              "      border-left-color: var(--fill-color);\n",
              "      border-top-color: var(--fill-color);\n",
              "    }\n",
              "    30% {\n",
              "      border-color: transparent;\n",
              "      border-left-color: var(--fill-color);\n",
              "      border-top-color: var(--fill-color);\n",
              "      border-right-color: var(--fill-color);\n",
              "    }\n",
              "    40% {\n",
              "      border-color: transparent;\n",
              "      border-right-color: var(--fill-color);\n",
              "      border-top-color: var(--fill-color);\n",
              "    }\n",
              "    60% {\n",
              "      border-color: transparent;\n",
              "      border-right-color: var(--fill-color);\n",
              "    }\n",
              "    80% {\n",
              "      border-color: transparent;\n",
              "      border-right-color: var(--fill-color);\n",
              "      border-bottom-color: var(--fill-color);\n",
              "    }\n",
              "    90% {\n",
              "      border-color: transparent;\n",
              "      border-bottom-color: var(--fill-color);\n",
              "    }\n",
              "  }\n",
              "</style>\n",
              "\n",
              "  <script>\n",
              "    async function quickchart(key) {\n",
              "      const quickchartButtonEl =\n",
              "        document.querySelector('#' + key + ' button');\n",
              "      quickchartButtonEl.disabled = true;  // To prevent multiple clicks.\n",
              "      quickchartButtonEl.classList.add('colab-df-spinner');\n",
              "      try {\n",
              "        const charts = await google.colab.kernel.invokeFunction(\n",
              "            'suggestCharts', [key], {});\n",
              "      } catch (error) {\n",
              "        console.error('Error during call to suggestCharts:', error);\n",
              "      }\n",
              "      quickchartButtonEl.classList.remove('colab-df-spinner');\n",
              "      quickchartButtonEl.classList.add('colab-df-quickchart-complete');\n",
              "    }\n",
              "    (() => {\n",
              "      let quickchartButtonEl =\n",
              "        document.querySelector('#df-9c37099f-6956-4727-913b-0ab06d34dd6c button');\n",
              "      quickchartButtonEl.style.display =\n",
              "        google.colab.kernel.accessAllowed ? 'block' : 'none';\n",
              "    })();\n",
              "  </script>\n",
              "</div>\n",
              "    </div>\n",
              "  </div>\n"
            ]
          },
          "metadata": {},
          "execution_count": 2
        }
      ],
      "source": [
        "# Load training data\n",
        "filename1 = 'captura.csv'\n",
        "#filename1 = 'bank-additional-full.csv'\n",
        "bank_df = pd.read_csv(filename1, delimiter=';', header=0)\n",
        "bank_df.head()"
      ]
    },
    {
      "cell_type": "markdown",
      "id": "a435b7cf-c1d9-4761-8beb-e252484f172e",
      "metadata": {
        "id": "a435b7cf-c1d9-4761-8beb-e252484f172e"
      },
      "source": [
        "\n",
        "**Data preprocessing**"
      ]
    },
    {
      "cell_type": "markdown",
      "id": "32a6996d",
      "metadata": {
        "id": "32a6996d"
      },
      "source": [
        "**Input variables:**\n",
        "\n",
        "Bank client data:\n",
        "\n",
        "1. age (numeric)\n",
        "   \n",
        "2. job: type of job (categorical: \"admin.\",\"blue-collar\",\"entrepreneur\",\"housemaid\",\"management\",\"retired\",\"self-employed\",\"services\",\"student\",\"technician\",\"unemployed\",\"unknown\")\n",
        "\n",
        "3. marital: marital status (categorical: \"divorced\",\"married\",\"single\",\"unknown\"; note: \"divorced\" means divorced or widowed)\n",
        "\n",
        "4. education (categorical: \"basic.4y\",\"basic.6y\",\"basic.9y\",\"high.school\",\"illiterate\",\"professional.course\",\"university.degree\",\"unknown\")\n",
        "\n",
        "5. default: has credit in default? (categorical: \"no\",\"yes\",\"unknown\")\n",
        "\n",
        "6. housing: has housing loan? (categorical: \"no\",\"yes\",\"unknown\")\n",
        "\n",
        "7. loan: has personal loan? (categorical: \"no\",\"yes\",\"unknown\")\n",
        "\n",
        "related with the last contact of the current campaign:\n",
        "\n",
        "8. contact: contact communication type (categorical: \"cellular\",\"telephone\")\n",
        "\n",
        "9. month: last contact month of year (categorical: \"jan\", \"feb\", \"mar\", ..., \"nov\", \"dec\")\n",
        "\n",
        "10. day_of_week: last contact day of the week (categorical: \"mon\",\"tue\",\"wed\",\"thu\",\"fri\")\n",
        "\n",
        "11. duration: last contact duration, in seconds (numeric). Important note:  this attribute highly affects the output target (e.g., if duration=0 then y=\"no\"). Yet, the duration is not known before a call is performed. Also, after the end of the call y is obviously known. Thus, this input should only be included for benchmark purposes and should be discarded if the intention is to have a realistic predictive model.\n",
        "\n",
        "other attributes:\n",
        "\n",
        "12. campaign: number of contacts performed during this campaign and for this client (numeric, includes last contact)\n",
        "\n",
        "13. pdays: number of days that passed by after the client was last contacted from a previous campaign (numeric; 999 means client was not previously contacted)\n",
        "\n",
        "14. previous: number of contacts performed before this campaign and for this client (numeric)\n",
        "\n",
        "15. poutcome: outcome of the previous marketing campaign (categorical: \"failure\",\"nonexistent\",\"success\")\n",
        "\n",
        "social and economic context attributes\n",
        "\n",
        "16. emp.var.rate: employment variation rate - quarterly indicator (numeric)\n",
        "\n",
        "17. cons.price.idx: consumer price index - monthly indicator (numeric)\n",
        "\n",
        "18. cons.conf.idx: consumer confidence index - monthly indicator (numeric)\n",
        "\n",
        "19. euribor3m: euribor 3 month rate - daily indicator (numeric)\n",
        "\n",
        "20. nr.employed: number of employees - quarterly indicator (numeric)\n",
        "\n",
        "Output variable (desired target):\n",
        "\n",
        "21. y - has the client subscribed a term deposit? (binary: \"yes\",\"no\")"
      ]
    },
    {
      "cell_type": "code",
      "execution_count": 3,
      "id": "d72ec63c",
      "metadata": {
        "id": "d72ec63c",
        "outputId": "827a231f-4336-4e36-8a20-40b30854709a",
        "colab": {
          "base_uri": "https://localhost:8080/"
        }
      },
      "outputs": [
        {
          "output_type": "stream",
          "name": "stdout",
          "text": [
            "['Time', 'Source', 'Destination', 'Protocol']\n",
            "    No.  Time  Source  Destination  Protocol  Length\n",
            "0     1     0      22            7         5      60\n",
            "1     2     1       4            3         6     783\n",
            "2     3     2       2            1         2     110\n",
            "3     4     3       0            0         2     103\n",
            "4     5     5       1            4         1     367\n",
            "5     6     4       1            4         1     357\n",
            "6     7     6      23            5         0      42\n",
            "7     8     7      19            3         6     166\n",
            "8     9     9      17            3         6     166\n",
            "9    10     8      24            5         0      42\n",
            "10   11    10      16            3         6     198\n",
            "11   12    12      24            5         0      42\n",
            "12   13    11      11            3         6     166\n",
            "13   14    13      23            5         0      42\n",
            "14   15    14      18            3         6     166\n",
            "15   16    15      22            6         3     179\n",
            "16   17    16       9            3         6     804\n",
            "17   18    17      20            3         6     166\n",
            "18   19    19       3            2         4      92\n",
            "19   20    18       3            2         4      82\n",
            "20   21    21      23            5         0      42\n",
            "21   22    20      24            5         0      42\n",
            "22   23    22       6            3         6     804\n",
            "23   24    24       3            2         4      92\n",
            "24   25    23       3            2         4      82\n",
            "25   26    26       2            1         2     110\n",
            "26   27    25      12            3         6     166\n",
            "27   28    27       0            0         2      84\n",
            "28   29    30       3            2         4      92\n",
            "29   30    29       3            2         4      82\n",
            "30   31    28      16            3         6     207\n",
            "31   32    31       7            3         6     804\n",
            "32   33    32       5            3         6     166\n",
            "33   34    33      10            3         6     207\n",
            "34   35    34      21            3         6     166\n",
            "35   36    35      23            5         0      42\n",
            "36   37    36      22            7         5      60\n",
            "37   38    37      14            3         6     207\n",
            "38   39    38      13            3         6     166\n",
            "39   40    39       4            3         6     783\n",
            "40   41    40      23            5         0      42\n",
            "41   42    41      15            3         6     166\n",
            "42   43    42      11            3         6     804\n",
            "43   44    43       8            3         6     166\n",
            "44   45    44      23            5         0      42\n"
          ]
        }
      ],
      "source": [
        "# get all categorical columns in the dataframe\n",
        "catCols = [col for col in bank_df.columns if bank_df[col].dtype==\"O\"]\n",
        "print(catCols)\n",
        "\n",
        "lb_make = LabelEncoder()\n",
        "\n",
        "for item in catCols:\n",
        "    bank_df[item] = lb_make.fit_transform(bank_df[item])\n",
        "\n",
        "print(bank_df)"
      ]
    },
    {
      "cell_type": "code",
      "execution_count": 4,
      "id": "d138b31c",
      "metadata": {
        "id": "d138b31c",
        "outputId": "60365539-3740-4dc7-89d3-d0abb1305ffe",
        "colab": {
          "base_uri": "https://localhost:8080/"
        }
      },
      "outputs": [
        {
          "output_type": "stream",
          "name": "stdout",
          "text": [
            "    No.  Time  Source  Destination  Protocol  Length\n",
            "13   14    13      23            5         0      42\n",
            "42   43    42      11            3         6     804\n",
            "43   44    43       8            3         6     166\n",
            "1     2     1       4            3         6     783\n",
            "11   12    12      24            5         0      42\n",
            "29   30    29       3            2         4      82\n",
            "10   11    10      16            3         6     198\n",
            "3     4     3       0            0         2     103\n",
            "26   27    25      12            3         6     166\n",
            "37   38    37      14            3         6     207\n",
            "14   15    14      18            3         6     166\n",
            "30   31    28      16            3         6     207\n",
            "34   35    34      21            3         6     166\n",
            "40   41    40      23            5         0      42\n",
            "27   28    27       0            0         2      84\n",
            "23   24    24       3            2         4      92\n",
            "44   45    44      23            5         0      42\n",
            "36   37    36      22            7         5      60\n",
            "41   42    41      15            3         6     166\n",
            "7     8     7      19            3         6     166\n",
            "24   25    23       3            2         4      82\n",
            "8     9     9      17            3         6     166\n",
            "4     5     5       1            4         1     367\n",
            "19   20    18       3            2         4      82\n",
            "33   34    33      10            3         6     207\n",
            "39   40    39       4            3         6     783\n",
            "35   36    35      23            5         0      42\n",
            "15   16    15      22            6         3     179\n",
            "0     1     0      22            7         5      60\n",
            "31   32    31       7            3         6     804\n",
            "2     3     2       2            1         2     110\n",
            "28   29    30       3            2         4      92\n",
            "25   26    26       2            1         2     110\n",
            "20   21    21      23            5         0      42\n",
            "5     6     4       1            4         1     357\n",
            "6     7     6      23            5         0      42\n",
            "    No.  Time  Source  Destination  Protocol  Length\n",
            "9    10     8      24            5         0      42\n",
            "12   13    11      11            3         6     166\n",
            "18   19    19       3            2         4      92\n",
            "21   22    20      24            5         0      42\n",
            "16   17    16       9            3         6     804\n",
            "38   39    38      13            3         6     166\n",
            "22   23    22       6            3         6     804\n",
            "32   33    32       5            3         6     166\n",
            "17   18    17      20            3         6     166\n"
          ]
        }
      ],
      "source": [
        "train_df, test_df = train_test_split(bank_df, test_size=0.2)\n",
        "print(train_df)\n",
        "print(test_df)"
      ]
    },
    {
      "cell_type": "markdown",
      "id": "46156221-2155-40cc-912a-599a4aa2bb11",
      "metadata": {
        "jp-MarkdownHeadingCollapsed": true,
        "tags": [],
        "id": "46156221-2155-40cc-912a-599a4aa2bb11"
      },
      "source": [
        "\n",
        "**Cross validation**"
      ]
    },
    {
      "cell_type": "code",
      "execution_count": 6,
      "id": "8e4b88f5-57fe-4e23-a4ac-8b39ed4bc689",
      "metadata": {
        "id": "8e4b88f5-57fe-4e23-a4ac-8b39ed4bc689",
        "outputId": "5896ff76-40c7-4073-a29d-61bf29d55bc9",
        "colab": {
          "base_uri": "https://localhost:8080/"
        }
      },
      "outputs": [
        {
          "output_type": "stream",
          "name": "stdout",
          "text": [
            "[ 0.14257132 -0.15070907 -0.2643961  -0.36991046]\n",
            "-0.16061107877754152\n"
          ]
        }
      ],
      "source": [
        "X_train = train_df.iloc[:,0:4].to_numpy()\n",
        "y_train = train_df.iloc[:,4].astype(int).to_numpy()\n",
        "\n",
        "clf = LinearRegression()\n",
        "# 4-fold cross-validation\n",
        "scores = cross_val_score(clf, X_train, y_train, cv=4)\n",
        "print(scores)\n",
        "print(np.mean(scores))"
      ]
    },
    {
      "cell_type": "markdown",
      "id": "c17f99b1-28f8-4358-ad93-860975abac3c",
      "metadata": {
        "jp-MarkdownHeadingCollapsed": true,
        "tags": [],
        "id": "c17f99b1-28f8-4358-ad93-860975abac3c"
      },
      "source": [
        "\n",
        "Training"
      ]
    },
    {
      "cell_type": "code",
      "execution_count": 7,
      "id": "a0a6d2fa-3e87-4a69-a042-57934ed9b2a6",
      "metadata": {
        "id": "a0a6d2fa-3e87-4a69-a042-57934ed9b2a6",
        "outputId": "91d01426-5ec9-4579-95bf-1f7117bcc904",
        "colab": {
          "base_uri": "https://localhost:8080/",
          "height": 75
        }
      },
      "outputs": [
        {
          "output_type": "execute_result",
          "data": {
            "text/plain": [
              "LinearRegression()"
            ],
            "text/html": [
              "<style>#sk-container-id-1 {color: black;background-color: white;}#sk-container-id-1 pre{padding: 0;}#sk-container-id-1 div.sk-toggleable {background-color: white;}#sk-container-id-1 label.sk-toggleable__label {cursor: pointer;display: block;width: 100%;margin-bottom: 0;padding: 0.3em;box-sizing: border-box;text-align: center;}#sk-container-id-1 label.sk-toggleable__label-arrow:before {content: \"▸\";float: left;margin-right: 0.25em;color: #696969;}#sk-container-id-1 label.sk-toggleable__label-arrow:hover:before {color: black;}#sk-container-id-1 div.sk-estimator:hover label.sk-toggleable__label-arrow:before {color: black;}#sk-container-id-1 div.sk-toggleable__content {max-height: 0;max-width: 0;overflow: hidden;text-align: left;background-color: #f0f8ff;}#sk-container-id-1 div.sk-toggleable__content pre {margin: 0.2em;color: black;border-radius: 0.25em;background-color: #f0f8ff;}#sk-container-id-1 input.sk-toggleable__control:checked~div.sk-toggleable__content {max-height: 200px;max-width: 100%;overflow: auto;}#sk-container-id-1 input.sk-toggleable__control:checked~label.sk-toggleable__label-arrow:before {content: \"▾\";}#sk-container-id-1 div.sk-estimator input.sk-toggleable__control:checked~label.sk-toggleable__label {background-color: #d4ebff;}#sk-container-id-1 div.sk-label input.sk-toggleable__control:checked~label.sk-toggleable__label {background-color: #d4ebff;}#sk-container-id-1 input.sk-hidden--visually {border: 0;clip: rect(1px 1px 1px 1px);clip: rect(1px, 1px, 1px, 1px);height: 1px;margin: -1px;overflow: hidden;padding: 0;position: absolute;width: 1px;}#sk-container-id-1 div.sk-estimator {font-family: monospace;background-color: #f0f8ff;border: 1px dotted black;border-radius: 0.25em;box-sizing: border-box;margin-bottom: 0.5em;}#sk-container-id-1 div.sk-estimator:hover {background-color: #d4ebff;}#sk-container-id-1 div.sk-parallel-item::after {content: \"\";width: 100%;border-bottom: 1px solid gray;flex-grow: 1;}#sk-container-id-1 div.sk-label:hover label.sk-toggleable__label {background-color: #d4ebff;}#sk-container-id-1 div.sk-serial::before {content: \"\";position: absolute;border-left: 1px solid gray;box-sizing: border-box;top: 0;bottom: 0;left: 50%;z-index: 0;}#sk-container-id-1 div.sk-serial {display: flex;flex-direction: column;align-items: center;background-color: white;padding-right: 0.2em;padding-left: 0.2em;position: relative;}#sk-container-id-1 div.sk-item {position: relative;z-index: 1;}#sk-container-id-1 div.sk-parallel {display: flex;align-items: stretch;justify-content: center;background-color: white;position: relative;}#sk-container-id-1 div.sk-item::before, #sk-container-id-1 div.sk-parallel-item::before {content: \"\";position: absolute;border-left: 1px solid gray;box-sizing: border-box;top: 0;bottom: 0;left: 50%;z-index: -1;}#sk-container-id-1 div.sk-parallel-item {display: flex;flex-direction: column;z-index: 1;position: relative;background-color: white;}#sk-container-id-1 div.sk-parallel-item:first-child::after {align-self: flex-end;width: 50%;}#sk-container-id-1 div.sk-parallel-item:last-child::after {align-self: flex-start;width: 50%;}#sk-container-id-1 div.sk-parallel-item:only-child::after {width: 0;}#sk-container-id-1 div.sk-dashed-wrapped {border: 1px dashed gray;margin: 0 0.4em 0.5em 0.4em;box-sizing: border-box;padding-bottom: 0.4em;background-color: white;}#sk-container-id-1 div.sk-label label {font-family: monospace;font-weight: bold;display: inline-block;line-height: 1.2em;}#sk-container-id-1 div.sk-label-container {text-align: center;}#sk-container-id-1 div.sk-container {/* jupyter's `normalize.less` sets `[hidden] { display: none; }` but bootstrap.min.css set `[hidden] { display: none !important; }` so we also need the `!important` here to be able to override the default hidden behavior on the sphinx rendered scikit-learn.org. See: https://github.com/scikit-learn/scikit-learn/issues/21755 */display: inline-block !important;position: relative;}#sk-container-id-1 div.sk-text-repr-fallback {display: none;}</style><div id=\"sk-container-id-1\" class=\"sk-top-container\"><div class=\"sk-text-repr-fallback\"><pre>LinearRegression()</pre><b>In a Jupyter environment, please rerun this cell to show the HTML representation or trust the notebook. <br />On GitHub, the HTML representation is unable to render, please try loading this page with nbviewer.org.</b></div><div class=\"sk-container\" hidden><div class=\"sk-item\"><div class=\"sk-estimator sk-toggleable\"><input class=\"sk-toggleable__control sk-hidden--visually\" id=\"sk-estimator-id-1\" type=\"checkbox\" checked><label for=\"sk-estimator-id-1\" class=\"sk-toggleable__label sk-toggleable__label-arrow\">LinearRegression</label><div class=\"sk-toggleable__content\"><pre>LinearRegression()</pre></div></div></div></div></div>"
            ]
          },
          "metadata": {},
          "execution_count": 7
        }
      ],
      "source": [
        "# Create model\n",
        "clf = LinearRegression()\n",
        "\n",
        "# Training\n",
        "clf.fit(X_train, y_train)"
      ]
    },
    {
      "cell_type": "markdown",
      "id": "7f405d59-a152-4e17-8ea1-d29758d95457",
      "metadata": {
        "jp-MarkdownHeadingCollapsed": true,
        "tags": [],
        "id": "7f405d59-a152-4e17-8ea1-d29758d95457"
      },
      "source": [
        "\n",
        "**Test**"
      ]
    },
    {
      "cell_type": "code",
      "execution_count": 8,
      "id": "bcff9799-db80-4036-bb16-3a59428afb20",
      "metadata": {
        "id": "bcff9799-db80-4036-bb16-3a59428afb20",
        "outputId": "a8f3833a-326e-48bc-e20c-c60565b37fc4",
        "colab": {
          "base_uri": "https://localhost:8080/",
          "height": 990
        }
      },
      "outputs": [
        {
          "output_type": "stream",
          "name": "stdout",
          "text": [
            "Model accuracy: 0.0\n"
          ]
        },
        {
          "output_type": "display_data",
          "data": {
            "text/plain": [
              "<Figure size 640x480 with 1 Axes>"
            ],
            "image/png": "[encoded data removed]"
          },
          "metadata": {}
        },
        {
          "output_type": "display_data",
          "data": {
            "text/plain": [
              "<Figure size 640x480 with 2 Axes>"
            ],
            "image/png": "[encoded data removed]"
          },
          "metadata": {}
        },
        {
          "output_type": "stream",
          "name": "stdout",
          "text": [
            "Confusion matrix:\n",
            " [[0 2 0 0]\n",
            " [0 0 0 0]\n",
            " [0 1 0 0]\n",
            " [0 6 0 0]]\n",
            "Percentage classification error obtained from test set: 100.0%\n"
          ]
        }
      ],
      "source": [
        "X_test = test_df.iloc[:,0:4].to_numpy()\n",
        "y_test = test_df.iloc[:,4].astype(int).to_numpy()\n",
        "\n",
        "# Generate predictions\n",
        "y_pred = clf.predict(X_test)\n",
        "#print(y_pred)\n",
        "#print(y_test)\n",
        "plt.hist(y_pred, bins=50)\n",
        "\n",
        "# Use a threshold to select the probabilities that will determine class 0 or 1\n",
        "threshold = 0.5\n",
        "y_pred = np.where(y_pred > threshold, 1,0)\n",
        "\n",
        "# Evaluate by means of accuracy\n",
        "accuracy = accuracy_score(y_test.astype(int), y_pred.astype(int))\n",
        "print(f'Model accuracy: {accuracy}')\n",
        "\n",
        "# Evaluate by means of a confusion matrix\n",
        "disp = ConfusionMatrixDisplay.from_predictions(y_test.astype(int), y_pred.astype(int),\n",
        "                                               cmap=plt.cm.Blues,\n",
        "                                               normalize='true')\n",
        "plt.show()\n",
        "\n",
        "cm = confusion_matrix(y_test, y_pred)\n",
        "print('Confusion matrix:\\n', cm)\n",
        "\n",
        "# Calculate the percentage classification error obtained from test set\n",
        "percentage_classification_error = 100 * ((cm[0][1] + cm[1][0]) / (cm[0][0] + cm[1][1] + cm[0][1] + cm[1][0]))\n",
        "print(f'Percentage classification error obtained from test set: {percentage_classification_error}%')"
      ]
    },
    {
      "cell_type": "code",
      "execution_count": 11,
      "id": "10646ae8",
      "metadata": {
        "id": "10646ae8"
      },
      "outputs": [],
      "source": [
        "bank_mlr_results = {'real_value': y_test,\n",
        "                    'prediction': y_pred}\n",
        "\n",
        "df = pd.DataFrame(bank_mlr_results)\n",
        "\n",
        "df.to_csv('captura.csv')"
      ]
    }
  ],
  "metadata": {
    "kernelspec": {
      "display_name": "Python 3 (ipykernel)",
      "language": "python",
      "name": "python3"
    },
    "language_info": {
      "codemirror_mode": {
        "name": "ipython",
        "version": 3
      },
      "file_extension": ".py",
      "mimetype": "text/x-python",
      "name": "python",
      "nbconvert_exporter": "python",
      "pygments_lexer": "ipython3",
      "version": "3.9.7"
    },
    "colab": {
      "provenance": []
    }
  },
  "nbformat": 4,
  "nbformat_minor": 5
}